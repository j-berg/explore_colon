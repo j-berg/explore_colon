{
 "cells": [
  {
   "cell_type": "markdown",
   "metadata": {},
   "source": [
    "# Analyzing colon tumor gene expression data\n",
    "Data source: \n",
    "- https://dx.doi.org/10.1038%2Fsdata.2018.61\n",
    "- https://www.ncbi.nlm.nih.gov/gds?term=GSE8671\n",
    "- https://www.ncbi.nlm.nih.gov/gds?term=GSE20916"
   ]
  },
  {
   "cell_type": "markdown",
   "metadata": {},
   "source": [
    "### 1. Initialize the environment and variables\n",
    "Upon launching this page, run the below code to initialize the analysis environment by selecting the cell and pressing `Shift + Enter`"
   ]
  },
  {
   "cell_type": "code",
   "execution_count": null,
   "metadata": {},
   "outputs": [],
   "source": [
    "#Set path to this directory for accessing and saving files\n",
    "import os\n",
    "import warnings\n",
    "warnings.filterwarnings('ignore')\n",
    "\n",
    "__path__  = os.getcwd() + os.path.sep\n",
    "print('Current path: ' + __path__)\n",
    "\n",
    "from local_utils import init_tcga, init_GSE8671, init_GSE20916, sort_data\n",
    "from local_utils import eval_gene, make_heatmap\n",
    "\n",
    "%matplotlib inline\n",
    "\n",
    "# Read data \n",
    "print(\"Loading data. Please wait...\"')\n",
    "tcga_scaled, tcga_data, tcga_info, tcga_palette = init_tcga()\n",
    "GSE8671_scaled, GSE8671_data, GSE8671_info, GSE8671_palette = init_GSE8671()\n",
    "GSE20916_scaled, GSE20916_data, GSE20916_info, GSE20916_palette = init_GSE20916()\n",
    "print(\"Data import complete. Continue below...\")"
   ]
  },
  {
   "cell_type": "markdown",
   "metadata": {},
   "source": [
    "### 2a. Explore a gene of interest in the Unified TCGA data or GSE8671 and GSE20916\n",
    "- In the first line, edit the gene name (human) within the quotes\n",
    "- Press `Shift + Enter`"
   ]
  },
  {
   "cell_type": "code",
   "execution_count": null,
   "metadata": {},
   "outputs": [],
   "source": [
    "gene = \"FABP1\" # <-- edit between the quotation marks here\n",
    "\n",
    "# Do not edit below this line\n",
    "# ------------------------------------------------------------------------\n",
    "print(\"Running analysis. Please wait...\")\n",
    "eval_gene(gene, tcga_data, tcga_info, tcga_palette, 'TCGA (unified)')\n",
    "eval_gene(gene, GSE8671_data, GSE8671_info, GSE8671_palette, 'GSE8671')\n",
    "eval_gene(gene, GSE20916_data, GSE20916_info, GSE20916_palette, 'GSE20916')"
   ]
  },
  {
   "cell_type": "markdown",
   "metadata": {},
   "source": [
    "### 2a. Explore a set of genes in the Unified TCGA data or GSE8671 and GSE20916\n",
    "- Between the brackets, edit the gene names (human) within the quotes\n",
    "- If you want to have less than the provided number of genes, remove the necessary number of lines \n",
    "- If you want to have more than the provided number of genes, add lines with the gene name in quotes, followed by a comma outside of the quotes\n",
    "- Press `Shift + Enter`"
   ]
  },
  {
   "cell_type": "code",
   "execution_count": null,
   "metadata": {},
   "outputs": [],
   "source": [
    "gene_list = [\n",
    "    \"FABP1\", # <-- edit between the quote marks here\n",
    "    \"ME1\",\n",
    "    \"ME2\",\n",
    "    \"PC\", # <-- add more genes by adding a line, the gene name between quotes, and a comma after that quote\n",
    "    \n",
    "]\n",
    "\n",
    "# Do not edit below this line\n",
    "# ------------------------------------------------------------------------\n",
    "print(\"Running analysis. Please wait...\")\n",
    "make_heatmap(gene_list, tcga_scaled, tcga_info, tcga_palette, 'TCGA (unified)')\n",
    "make_heatmap(gene_list, GSE8671_scaled, GSE8671_info, GSE8671_palette, 'GSE8671')\n",
    "make_heatmap(gene_list, sort_data(GSE20916_scaled, GSE20916_info, ['adenoma', 'adenocarcinoma','normal_colon']), GSE20916_info, GSE20916_palette, 'GSE20916')"
   ]
  }
 ],
 "metadata": {
  "kernelspec": {
   "display_name": "Python 3",
   "language": "python",
   "name": "python3"
  },
  "language_info": {
   "codemirror_mode": {
    "name": "ipython",
    "version": 3
   },
   "file_extension": ".py",
   "mimetype": "text/x-python",
   "name": "python",
   "nbconvert_exporter": "python",
   "pygments_lexer": "ipython3",
   "version": "3.8.6"
  }
 },
 "nbformat": 4,
 "nbformat_minor": 4
}
